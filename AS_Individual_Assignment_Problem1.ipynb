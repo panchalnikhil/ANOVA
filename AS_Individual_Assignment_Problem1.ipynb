{
 "cells": [
  {
   "cell_type": "markdown",
   "metadata": {},
   "source": [
    "# Problem1:\n",
    "A research laboratory was developing a new compound for the relief of severe cases of hay fever. \n",
    "In an experiment with 36 volunteers, the amounts of the two active ingredients (A & B) in the compound were varied at three levels each. Randomization was used in assigning four volunteers to each of the nine treatments. The data on hours of relief can be found in the following .csv file: Fever.csv\n",
    "\n",
    "[Assume all of the ANOVA assumptions are satisfied]"
   ]
  },
  {
   "cell_type": "code",
   "execution_count": 2,
   "metadata": {},
   "outputs": [],
   "source": [
    "# Import necessary libraries\n",
    "import numpy as np\n",
    "import pandas as pd\n",
    "import seaborn as sns\n",
    "import matplotlib.pyplot as plt\n",
    "\n",
    "# For n-way ANOVA\n",
    "from statsmodels.formula.api import ols\n",
    "from statsmodels.stats.anova import _get_covariance,anova_lm \n",
    "\n",
    "# For performing the Tukey-HSD test\n",
    "from statsmodels.stats.multicomp import pairwise_tukeyhsd \n",
    "\n",
    "# To compare the levels of independent variables with the dependent variables\n",
    "from statsmodels.stats.multicomp import MultiComparison \n",
    "\n",
    "%matplotlib inline "
   ]
  },
  {
   "cell_type": "code",
   "execution_count": 3,
   "metadata": {},
   "outputs": [],
   "source": [
    "## to define output or conclusion in below format or color.\n",
    "class color:\n",
    "   PURPLE = '\\033[95m'\n",
    "   CYAN = '\\033[96m'\n",
    "   DARKCYAN = '\\033[36m'\n",
    "   BLUE = '\\033[94m'\n",
    "   GREEN = '\\033[92m'\n",
    "   YELLOW = '\\033[93m'\n",
    "   RED = '\\033[91m'\n",
    "   BOLD = '\\033[1m'\n",
    "   UNDERLINE = '\\033[4m'\n",
    "   END = '\\033[0m'"
   ]
  },
  {
   "cell_type": "code",
   "execution_count": 4,
   "metadata": {},
   "outputs": [],
   "source": [
    "# use to set style of background of plot\n",
    "sns.set(style=\"whitegrid\")"
   ]
  },
  {
   "cell_type": "code",
   "execution_count": 5,
   "metadata": {},
   "outputs": [],
   "source": [
    "## load dataset\n",
    "df = pd.read_csv('Fever.csv') "
   ]
  },
  {
   "cell_type": "code",
   "execution_count": 6,
   "metadata": {},
   "outputs": [
    {
     "data": {
      "text/html": [
       "<div>\n",
       "<style scoped>\n",
       "    .dataframe tbody tr th:only-of-type {\n",
       "        vertical-align: middle;\n",
       "    }\n",
       "\n",
       "    .dataframe tbody tr th {\n",
       "        vertical-align: top;\n",
       "    }\n",
       "\n",
       "    .dataframe thead th {\n",
       "        text-align: right;\n",
       "    }\n",
       "</style>\n",
       "<table border=\"1\" class=\"dataframe\">\n",
       "  <thead>\n",
       "    <tr style=\"text-align: right;\">\n",
       "      <th></th>\n",
       "      <th>A</th>\n",
       "      <th>B</th>\n",
       "      <th>Volunteer</th>\n",
       "      <th>Relief</th>\n",
       "    </tr>\n",
       "  </thead>\n",
       "  <tbody>\n",
       "    <tr>\n",
       "      <td>0</td>\n",
       "      <td>1</td>\n",
       "      <td>1</td>\n",
       "      <td>1</td>\n",
       "      <td>2.4</td>\n",
       "    </tr>\n",
       "    <tr>\n",
       "      <td>1</td>\n",
       "      <td>1</td>\n",
       "      <td>1</td>\n",
       "      <td>2</td>\n",
       "      <td>2.7</td>\n",
       "    </tr>\n",
       "    <tr>\n",
       "      <td>2</td>\n",
       "      <td>1</td>\n",
       "      <td>1</td>\n",
       "      <td>3</td>\n",
       "      <td>2.3</td>\n",
       "    </tr>\n",
       "    <tr>\n",
       "      <td>3</td>\n",
       "      <td>1</td>\n",
       "      <td>1</td>\n",
       "      <td>4</td>\n",
       "      <td>2.5</td>\n",
       "    </tr>\n",
       "    <tr>\n",
       "      <td>4</td>\n",
       "      <td>1</td>\n",
       "      <td>2</td>\n",
       "      <td>1</td>\n",
       "      <td>4.6</td>\n",
       "    </tr>\n",
       "  </tbody>\n",
       "</table>\n",
       "</div>"
      ],
      "text/plain": [
       "   A  B  Volunteer  Relief\n",
       "0  1  1          1     2.4\n",
       "1  1  1          2     2.7\n",
       "2  1  1          3     2.3\n",
       "3  1  1          4     2.5\n",
       "4  1  2          1     4.6"
      ]
     },
     "execution_count": 6,
     "metadata": {},
     "output_type": "execute_result"
    }
   ],
   "source": [
    "## top 5 rows\n",
    "df.head() "
   ]
  },
  {
   "cell_type": "markdown",
   "metadata": {},
   "source": [
    "## EDA (Exploratory Data Analysis)"
   ]
  },
  {
   "cell_type": "code",
   "execution_count": 7,
   "metadata": {},
   "outputs": [
    {
     "name": "stdout",
     "output_type": "stream",
     "text": [
      "<class 'pandas.core.frame.DataFrame'>\n",
      "RangeIndex: 36 entries, 0 to 35\n",
      "Data columns (total 4 columns):\n",
      "A            36 non-null int64\n",
      "B            36 non-null int64\n",
      "Volunteer    36 non-null int64\n",
      "Relief       36 non-null float64\n",
      "dtypes: float64(1), int64(3)\n",
      "memory usage: 1.2 KB\n"
     ]
    }
   ],
   "source": [
    "## information about dataset\n",
    "df.info() "
   ]
  },
  {
   "cell_type": "code",
   "execution_count": 8,
   "metadata": {},
   "outputs": [
    {
     "data": {
      "text/plain": [
       "A            0\n",
       "B            0\n",
       "Volunteer    0\n",
       "Relief       0\n",
       "dtype: int64"
      ]
     },
     "execution_count": 8,
     "metadata": {},
     "output_type": "execute_result"
    }
   ],
   "source": [
    "## check is there any null data in the dataset\n",
    "df.isnull().sum()"
   ]
  },
  {
   "cell_type": "code",
   "execution_count": 9,
   "metadata": {},
   "outputs": [
    {
     "data": {
      "text/plain": [
       "3    12\n",
       "2    12\n",
       "1    12\n",
       "Name: A, dtype: int64"
      ]
     },
     "execution_count": 9,
     "metadata": {},
     "output_type": "execute_result"
    }
   ],
   "source": [
    "df['A'].value_counts()"
   ]
  },
  {
   "cell_type": "code",
   "execution_count": 10,
   "metadata": {},
   "outputs": [
    {
     "data": {
      "text/plain": [
       "3    12\n",
       "2    12\n",
       "1    12\n",
       "Name: B, dtype: int64"
      ]
     },
     "execution_count": 10,
     "metadata": {},
     "output_type": "execute_result"
    }
   ],
   "source": [
    "df['B'].value_counts()"
   ]
  },
  {
   "cell_type": "code",
   "execution_count": 11,
   "metadata": {},
   "outputs": [
    {
     "data": {
      "text/plain": [
       "4    9\n",
       "3    9\n",
       "2    9\n",
       "1    9\n",
       "Name: Volunteer, dtype: int64"
      ]
     },
     "execution_count": 11,
     "metadata": {},
     "output_type": "execute_result"
    }
   ],
   "source": [
    "df['Volunteer'].value_counts()"
   ]
  },
  {
   "cell_type": "code",
   "execution_count": 12,
   "metadata": {},
   "outputs": [
    {
     "data": {
      "text/plain": [
       "9.1     2\n",
       "8.7     2\n",
       "4.6     2\n",
       "5.8     1\n",
       "4.9     1\n",
       "4.5     1\n",
       "5.5     1\n",
       "9.0     1\n",
       "10.5    1\n",
       "5.2     1\n",
       "6.2     1\n",
       "13.5    1\n",
       "10.6    1\n",
       "13.0    1\n",
       "4.4     1\n",
       "10.1    1\n",
       "8.9     1\n",
       "9.9     1\n",
       "2.3     1\n",
       "2.7     1\n",
       "5.3     1\n",
       "4.7     1\n",
       "5.9     1\n",
       "6.1     1\n",
       "9.4     1\n",
       "13.2    1\n",
       "9.3     1\n",
       "2.4     1\n",
       "4.2     1\n",
       "5.7     1\n",
       "13.3    1\n",
       "4.8     1\n",
       "2.5     1\n",
       "Name: Relief, dtype: int64"
      ]
     },
     "execution_count": 12,
     "metadata": {},
     "output_type": "execute_result"
    }
   ],
   "source": [
    "df['Relief'].value_counts()"
   ]
  },
  {
   "cell_type": "code",
   "execution_count": 13,
   "metadata": {},
   "outputs": [
    {
     "data": {
      "text/html": [
       "<div>\n",
       "<style scoped>\n",
       "    .dataframe tbody tr th:only-of-type {\n",
       "        vertical-align: middle;\n",
       "    }\n",
       "\n",
       "    .dataframe tbody tr th {\n",
       "        vertical-align: top;\n",
       "    }\n",
       "\n",
       "    .dataframe thead th {\n",
       "        text-align: right;\n",
       "    }\n",
       "</style>\n",
       "<table border=\"1\" class=\"dataframe\">\n",
       "  <thead>\n",
       "    <tr style=\"text-align: right;\">\n",
       "      <th></th>\n",
       "      <th>count</th>\n",
       "      <th>mean</th>\n",
       "      <th>std</th>\n",
       "      <th>min</th>\n",
       "      <th>25%</th>\n",
       "      <th>50%</th>\n",
       "      <th>75%</th>\n",
       "      <th>max</th>\n",
       "    </tr>\n",
       "  </thead>\n",
       "  <tbody>\n",
       "    <tr>\n",
       "      <td>A</td>\n",
       "      <td>36.0</td>\n",
       "      <td>2.000000</td>\n",
       "      <td>0.828079</td>\n",
       "      <td>1.0</td>\n",
       "      <td>1.000</td>\n",
       "      <td>2.0</td>\n",
       "      <td>3.000</td>\n",
       "      <td>3.0</td>\n",
       "    </tr>\n",
       "    <tr>\n",
       "      <td>B</td>\n",
       "      <td>36.0</td>\n",
       "      <td>2.000000</td>\n",
       "      <td>0.828079</td>\n",
       "      <td>1.0</td>\n",
       "      <td>1.000</td>\n",
       "      <td>2.0</td>\n",
       "      <td>3.000</td>\n",
       "      <td>3.0</td>\n",
       "    </tr>\n",
       "    <tr>\n",
       "      <td>Volunteer</td>\n",
       "      <td>36.0</td>\n",
       "      <td>2.500000</td>\n",
       "      <td>1.133893</td>\n",
       "      <td>1.0</td>\n",
       "      <td>1.750</td>\n",
       "      <td>2.5</td>\n",
       "      <td>3.250</td>\n",
       "      <td>4.0</td>\n",
       "    </tr>\n",
       "    <tr>\n",
       "      <td>Relief</td>\n",
       "      <td>36.0</td>\n",
       "      <td>7.183333</td>\n",
       "      <td>3.272090</td>\n",
       "      <td>2.3</td>\n",
       "      <td>4.675</td>\n",
       "      <td>6.0</td>\n",
       "      <td>9.325</td>\n",
       "      <td>13.5</td>\n",
       "    </tr>\n",
       "  </tbody>\n",
       "</table>\n",
       "</div>"
      ],
      "text/plain": [
       "           count      mean       std  min    25%  50%    75%   max\n",
       "A           36.0  2.000000  0.828079  1.0  1.000  2.0  3.000   3.0\n",
       "B           36.0  2.000000  0.828079  1.0  1.000  2.0  3.000   3.0\n",
       "Volunteer   36.0  2.500000  1.133893  1.0  1.750  2.5  3.250   4.0\n",
       "Relief      36.0  7.183333  3.272090  2.3  4.675  6.0  9.325  13.5"
      ]
     },
     "execution_count": 13,
     "metadata": {},
     "output_type": "execute_result"
    }
   ],
   "source": [
    "## this will help to summarise the dataset\n",
    "df.describe().T "
   ]
  },
  {
   "cell_type": "markdown",
   "metadata": {},
   "source": [
    "#### Describe function is very useful to summarise the data. in this dataset we can see below observations:\n",
    "1. There are 36 total rows for this dataset.\n",
    "2. There are 4 numerical variables in the dataset which helps to summarise the trend.\n",
    "3. Relief Variable: mean is greater than 50%(i.e. median), which stats we have skewness in the data. "
   ]
  },
  {
   "cell_type": "markdown",
   "metadata": {},
   "source": [
    "------------------------------------------------ EDA ENDS ---------------------------------------------------------------"
   ]
  },
  {
   "cell_type": "markdown",
   "metadata": {},
   "source": [
    "## 1.1)  State the Null and Alternate Hypothesis for conducting one-way ANOVA for both the variables ‘A’ and ‘B’ individually."
   ]
  },
  {
   "cell_type": "markdown",
   "metadata": {},
   "source": [
    "#### --------------------------------------------------------------------  \"A\"  --------------------------------------------------------------------------------------"
   ]
  },
  {
   "cell_type": "markdown",
   "metadata": {},
   "source": [
    "### i) Variable \"A\":\n",
    "\n",
    "Null hypothesis states that mean relief time for all the three levels in ingredient A are equal.\n",
    "\n",
    "Alternative hypothesis states that Not all of the mean relief time for all the three levels in ingredient A are equal. In other words, at least one pair has mean relief time in ingredient A are unequal\n"
   ]
  },
  {
   "cell_type": "markdown",
   "metadata": {},
   "source": [
    "\n",
    "$H_0$: $\\mu_{A1}$ = $\\mu_{A2}$ = $\\mu_{A3}$\n",
    "#### (The means between all three levels in ingredient A are equal)\n",
    "\n"
   ]
  },
  {
   "cell_type": "markdown",
   "metadata": {},
   "source": [
    "\n",
    "\n",
    "$H_a$: $\\mu_{A1}$ $\\neq$ $\\mu_{A2}$ $\\neq$ $\\mu_{A3}$ OR $H_a$: $\\mu_{A1}$ = $\\mu_{A2}$ $\\neq$ $\\mu_{A3}$ OR $H_a$: $\\mu_{A1}$ $\\neq$ $\\mu_{A2}$ = $\\mu_{A3}$ OR $H_a$: $\\mu_{A1}$ = $\\mu_{A3}$ $\\neq$ $\\mu_{A2}$     \n",
    "#### (The means between levels in ingredient A are unequal, {i.e At least one of the means between levels in ingredient A are unequal})"
   ]
  },
  {
   "cell_type": "markdown",
   "metadata": {},
   "source": [
    "#### --------------------------------------------------------------------------------------------------------------------------------------------------------------"
   ]
  },
  {
   "cell_type": "markdown",
   "metadata": {},
   "source": [
    "#### --------------------------------------------------------------------  \"B\"  --------------------------------------------------------------------------------------"
   ]
  },
  {
   "cell_type": "markdown",
   "metadata": {},
   "source": [
    "### i) Variable \"B\":\n",
    "\n",
    "Null hypothesis states that mean relief time for all the three levels in ingredient B are equal.\n",
    "\n",
    "Alternative hypothesis states that Not all of the mean relief time for all the three levels in ingredient B are equal. In other words, at least one pair has mean relief time in ingredient B are unequal\n"
   ]
  },
  {
   "cell_type": "markdown",
   "metadata": {},
   "source": [
    "\n",
    "$H_0$: $\\mu_{B1}$ = $\\mu_{B2}$ = $\\mu_{B3}$\n",
    "#### (The means between all three levels in ingredient B are equal)\n",
    "\n"
   ]
  },
  {
   "cell_type": "markdown",
   "metadata": {},
   "source": [
    "\n",
    "\n",
    "$H_a$: $\\mu_{B1}$ $\\neq$ $\\mu_{B2}$ $\\neq$ $\\mu_{B3}$ OR $H_a$: $\\mu_{B1}$ = $\\mu_{B2}$ $\\neq$ $\\mu_{B3}$ OR $H_a$: $\\mu_{B1}$ $\\neq$ $\\mu_{B2}$ = $\\mu_{B3}$ OR $H_a$: $\\mu_{B1}$ = $\\mu_{B3}$ $\\neq$ $\\mu_{B2}$     \n",
    "#### (The means between levels in ingredient B are unequal, {i.e At least one of the means beetween levels in ingredient B are unequal})"
   ]
  },
  {
   "cell_type": "markdown",
   "metadata": {},
   "source": [
    "#### --------------------------------------------------------------------------------------------------------------------------------------------------------------"
   ]
  },
  {
   "cell_type": "markdown",
   "metadata": {},
   "source": [
    "#### ---------------------------------------------------------------  END 1.1  -----------------------------------------------------------------------------------------------"
   ]
  },
  {
   "cell_type": "markdown",
   "metadata": {},
   "source": [
    "## 1.2) Perform one-way ANOVA for variable ‘A’ with respect to the variable ‘Relief’. State whether the Null Hypothesis is accepted or rejected based on the ANOVA results."
   ]
  },
  {
   "cell_type": "markdown",
   "metadata": {},
   "source": [
    "Assumption1: All of the ANOVA assumptions are satisfied\n",
    "\n",
    "Assumption2: Level of significance: $\\alpha$ = 0.05"
   ]
  },
  {
   "cell_type": "code",
   "execution_count": 14,
   "metadata": {},
   "outputs": [
    {
     "data": {
      "text/html": [
       "<div>\n",
       "<style scoped>\n",
       "    .dataframe tbody tr th:only-of-type {\n",
       "        vertical-align: middle;\n",
       "    }\n",
       "\n",
       "    .dataframe tbody tr th {\n",
       "        vertical-align: top;\n",
       "    }\n",
       "\n",
       "    .dataframe thead th {\n",
       "        text-align: right;\n",
       "    }\n",
       "</style>\n",
       "<table border=\"1\" class=\"dataframe\">\n",
       "  <thead>\n",
       "    <tr style=\"text-align: right;\">\n",
       "      <th></th>\n",
       "      <th>A</th>\n",
       "      <th>Relief</th>\n",
       "    </tr>\n",
       "  </thead>\n",
       "  <tbody>\n",
       "    <tr>\n",
       "      <td>0</td>\n",
       "      <td>1</td>\n",
       "      <td>2.4</td>\n",
       "    </tr>\n",
       "    <tr>\n",
       "      <td>1</td>\n",
       "      <td>1</td>\n",
       "      <td>2.7</td>\n",
       "    </tr>\n",
       "    <tr>\n",
       "      <td>2</td>\n",
       "      <td>1</td>\n",
       "      <td>2.3</td>\n",
       "    </tr>\n",
       "    <tr>\n",
       "      <td>3</td>\n",
       "      <td>1</td>\n",
       "      <td>2.5</td>\n",
       "    </tr>\n",
       "    <tr>\n",
       "      <td>4</td>\n",
       "      <td>1</td>\n",
       "      <td>4.6</td>\n",
       "    </tr>\n",
       "  </tbody>\n",
       "</table>\n",
       "</div>"
      ],
      "text/plain": [
       "   A  Relief\n",
       "0  1     2.4\n",
       "1  1     2.7\n",
       "2  1     2.3\n",
       "3  1     2.5\n",
       "4  1     4.6"
      ]
     },
     "execution_count": 14,
     "metadata": {},
     "output_type": "execute_result"
    }
   ],
   "source": [
    "## create df_varA dataframe with only variable A & Relief\n",
    "df_varA = df.drop(['B','Volunteer'],axis = 1)\n",
    "df_varA.head()"
   ]
  },
  {
   "cell_type": "code",
   "execution_count": 15,
   "metadata": {},
   "outputs": [],
   "source": [
    "## To test ANOVA, we need to convert variable \"A\" from int64 to categorical\n",
    "df_varA['A']= pd.Categorical(df_varA['A'])"
   ]
  },
  {
   "cell_type": "code",
   "execution_count": 16,
   "metadata": {},
   "outputs": [
    {
     "name": "stdout",
     "output_type": "stream",
     "text": [
      "<class 'pandas.core.frame.DataFrame'>\n",
      "RangeIndex: 36 entries, 0 to 35\n",
      "Data columns (total 2 columns):\n",
      "A         36 non-null category\n",
      "Relief    36 non-null float64\n",
      "dtypes: category(1), float64(1)\n",
      "memory usage: 556.0 bytes\n"
     ]
    }
   ],
   "source": [
    "## we can see here variable \"A\" is converted from int64 to categorical\n",
    "df_varA.info()"
   ]
  },
  {
   "cell_type": "markdown",
   "metadata": {},
   "source": [
    "#### Let's Perform ANOVA for variable \"A\""
   ]
  },
  {
   "cell_type": "code",
   "execution_count": 17,
   "metadata": {},
   "outputs": [
    {
     "name": "stdout",
     "output_type": "stream",
     "text": [
      "            df  sum_sq     mean_sq          F        PR(>F)\n",
      "C(A)       2.0  220.02  110.010000  23.465387  4.578242e-07\n",
      "Residual  33.0  154.71    4.688182        NaN           NaN\n"
     ]
    }
   ],
   "source": [
    "formula = 'Relief ~ C(A)'\n",
    "model = ols(formula, df_varA).fit()\n",
    "aov_table = anova_lm(model)\n",
    "print(aov_table)"
   ]
  },
  {
   "cell_type": "markdown",
   "metadata": {},
   "source": [
    "$\\textbf{Interpretation:}$ We see that the corresponding p-value is less than $\\alpha$ (0.05). Thus, we $\\textbf{Reject}$ the $\\textbf{Null Hypothesis}$ ($H_0$).\n",
    "\n",
    "#### Hence, we conclude that “there is a significant difference in the mean relief time for the three levels of ingredient A”."
   ]
  },
  {
   "cell_type": "markdown",
   "metadata": {},
   "source": [
    "#### ---------------------------------------------------------------  END 1.2  -----------------------------------------------------------------------------------------------"
   ]
  },
  {
   "cell_type": "markdown",
   "metadata": {},
   "source": [
    "## 1.3) Perform one-way ANOVA for variable ‘B’ with respect to the variable ‘Relief’. State whether the Null Hypothesis is accepted or rejected based on the ANOVA results."
   ]
  },
  {
   "cell_type": "markdown",
   "metadata": {},
   "source": [
    "Assumption1: All of the ANOVA assumptions are satisfied\n",
    "\n",
    "Assumption2: Level of significance: $\\alpha$ = 0.05"
   ]
  },
  {
   "cell_type": "code",
   "execution_count": 18,
   "metadata": {},
   "outputs": [
    {
     "data": {
      "text/html": [
       "<div>\n",
       "<style scoped>\n",
       "    .dataframe tbody tr th:only-of-type {\n",
       "        vertical-align: middle;\n",
       "    }\n",
       "\n",
       "    .dataframe tbody tr th {\n",
       "        vertical-align: top;\n",
       "    }\n",
       "\n",
       "    .dataframe thead th {\n",
       "        text-align: right;\n",
       "    }\n",
       "</style>\n",
       "<table border=\"1\" class=\"dataframe\">\n",
       "  <thead>\n",
       "    <tr style=\"text-align: right;\">\n",
       "      <th></th>\n",
       "      <th>B</th>\n",
       "      <th>Relief</th>\n",
       "    </tr>\n",
       "  </thead>\n",
       "  <tbody>\n",
       "    <tr>\n",
       "      <td>0</td>\n",
       "      <td>1</td>\n",
       "      <td>2.4</td>\n",
       "    </tr>\n",
       "    <tr>\n",
       "      <td>1</td>\n",
       "      <td>1</td>\n",
       "      <td>2.7</td>\n",
       "    </tr>\n",
       "    <tr>\n",
       "      <td>2</td>\n",
       "      <td>1</td>\n",
       "      <td>2.3</td>\n",
       "    </tr>\n",
       "    <tr>\n",
       "      <td>3</td>\n",
       "      <td>1</td>\n",
       "      <td>2.5</td>\n",
       "    </tr>\n",
       "    <tr>\n",
       "      <td>4</td>\n",
       "      <td>2</td>\n",
       "      <td>4.6</td>\n",
       "    </tr>\n",
       "  </tbody>\n",
       "</table>\n",
       "</div>"
      ],
      "text/plain": [
       "   B  Relief\n",
       "0  1     2.4\n",
       "1  1     2.7\n",
       "2  1     2.3\n",
       "3  1     2.5\n",
       "4  2     4.6"
      ]
     },
     "execution_count": 18,
     "metadata": {},
     "output_type": "execute_result"
    }
   ],
   "source": [
    "## create df_varB dataframe with only variable B & Relief\n",
    "df_varB = df.drop(['A','Volunteer'],axis = 1)\n",
    "df_varB.head()"
   ]
  },
  {
   "cell_type": "code",
   "execution_count": 19,
   "metadata": {},
   "outputs": [],
   "source": [
    "## To test ANOVA, we need to convert variable \"B\" from int64 to categorical\n",
    "df_varB['B']= pd.Categorical(df_varB['B'])"
   ]
  },
  {
   "cell_type": "code",
   "execution_count": 20,
   "metadata": {},
   "outputs": [
    {
     "name": "stdout",
     "output_type": "stream",
     "text": [
      "<class 'pandas.core.frame.DataFrame'>\n",
      "RangeIndex: 36 entries, 0 to 35\n",
      "Data columns (total 2 columns):\n",
      "B         36 non-null category\n",
      "Relief    36 non-null float64\n",
      "dtypes: category(1), float64(1)\n",
      "memory usage: 556.0 bytes\n"
     ]
    }
   ],
   "source": [
    "## we can see here variable \"A\" is converted from int64 to categorical\n",
    "df_varB.info()"
   ]
  },
  {
   "cell_type": "markdown",
   "metadata": {},
   "source": [
    "#### Let's Perform ANOVA for variable \"B\""
   ]
  },
  {
   "cell_type": "code",
   "execution_count": 21,
   "metadata": {},
   "outputs": [
    {
     "name": "stdout",
     "output_type": "stream",
     "text": [
      "            df  sum_sq    mean_sq         F   PR(>F)\n",
      "C(B)       2.0  123.66  61.830000  8.126777  0.00135\n",
      "Residual  33.0  251.07   7.608182       NaN      NaN\n"
     ]
    }
   ],
   "source": [
    "formula = 'Relief ~ C(B)'\n",
    "model = ols(formula, df_varB).fit()\n",
    "aov_table = anova_lm(model)\n",
    "print(aov_table)"
   ]
  },
  {
   "cell_type": "markdown",
   "metadata": {},
   "source": [
    "$\\textbf{Interpretation:}$ We see that the corresponding p-value is less than $\\alpha$ (0.05). Thus, we $\\textbf{Reject}$ the $\\textbf{Null Hypothesis}$ ($H_0$).\n",
    "\n",
    "#### Hence, we conclude that “there is a significant difference in the mean relief time for the three levels of ingredient B”."
   ]
  },
  {
   "cell_type": "markdown",
   "metadata": {},
   "source": [
    "#### ---------------------------------------------------------------  END 1.3  -----------------------------------------------------------------------------------------------"
   ]
  },
  {
   "cell_type": "markdown",
   "metadata": {},
   "source": [
    "## 1.4) Analyse the effects of one variable on another with the help of an interaction plot. What is the interaction between the two treatments? \n",
    "\n",
    "[hint: use the ‘pointplot’ function from the ‘seaborn’ function]"
   ]
  },
  {
   "cell_type": "code",
   "execution_count": 22,
   "metadata": {},
   "outputs": [
    {
     "data": {
      "image/png": "[encoded data removed]",
      "text/plain": [
       "<Figure size 720x360 with 1 Axes>"
      ]
     },
     "metadata": {},
     "output_type": "display_data"
    }
   ],
   "source": [
    "fig = plt.gcf()\n",
    "fig.set_size_inches(10, 5)\n",
    "## point plot to see the effect of one variable on another\n",
    "sns.pointplot(x='A',y='Relief',hue='B',data=df)\n",
    "plt.show()"
   ]
  },
  {
   "cell_type": "markdown",
   "metadata": {},
   "source": [
    "From the above interaction plot, since the lines are interacting each other at points: i) (A1,B2 & A1,B3) and ii) (A2,B2 & A2,B3) that means there is an interaction effect of these 2 variables. In other words, the lines are not parallel. This interaction effect indicates that the relationship between ingredient “A” and “relief time” depends on the value of ingredient “B”."
   ]
  },
  {
   "cell_type": "markdown",
   "metadata": {},
   "source": [
    "#### Conclusion: The results indicate that the interaction between ingredient “A” and ingredient “B” is significant (very unlikely to be absent)."
   ]
  },
  {
   "cell_type": "markdown",
   "metadata": {},
   "source": [
    "#### ---------------------------------------------------------------  END 1.4  -----------------------------------------------------------------------------------------------"
   ]
  },
  {
   "cell_type": "markdown",
   "metadata": {},
   "source": [
    "## 1.5) Perform a two-way ANOVA based on the different ingredients (variable ‘A’ & ‘B’) with the variable 'Relief' and state your results."
   ]
  },
  {
   "cell_type": "code",
   "execution_count": 23,
   "metadata": {},
   "outputs": [
    {
     "data": {
      "text/html": [
       "<div>\n",
       "<style scoped>\n",
       "    .dataframe tbody tr th:only-of-type {\n",
       "        vertical-align: middle;\n",
       "    }\n",
       "\n",
       "    .dataframe tbody tr th {\n",
       "        vertical-align: top;\n",
       "    }\n",
       "\n",
       "    .dataframe thead th {\n",
       "        text-align: right;\n",
       "    }\n",
       "</style>\n",
       "<table border=\"1\" class=\"dataframe\">\n",
       "  <thead>\n",
       "    <tr style=\"text-align: right;\">\n",
       "      <th></th>\n",
       "      <th>A</th>\n",
       "      <th>B</th>\n",
       "      <th>Relief</th>\n",
       "    </tr>\n",
       "  </thead>\n",
       "  <tbody>\n",
       "    <tr>\n",
       "      <td>0</td>\n",
       "      <td>1</td>\n",
       "      <td>1</td>\n",
       "      <td>2.4</td>\n",
       "    </tr>\n",
       "    <tr>\n",
       "      <td>1</td>\n",
       "      <td>1</td>\n",
       "      <td>1</td>\n",
       "      <td>2.7</td>\n",
       "    </tr>\n",
       "    <tr>\n",
       "      <td>2</td>\n",
       "      <td>1</td>\n",
       "      <td>1</td>\n",
       "      <td>2.3</td>\n",
       "    </tr>\n",
       "    <tr>\n",
       "      <td>3</td>\n",
       "      <td>1</td>\n",
       "      <td>1</td>\n",
       "      <td>2.5</td>\n",
       "    </tr>\n",
       "    <tr>\n",
       "      <td>4</td>\n",
       "      <td>1</td>\n",
       "      <td>2</td>\n",
       "      <td>4.6</td>\n",
       "    </tr>\n",
       "  </tbody>\n",
       "</table>\n",
       "</div>"
      ],
      "text/plain": [
       "   A  B  Relief\n",
       "0  1  1     2.4\n",
       "1  1  1     2.7\n",
       "2  1  1     2.3\n",
       "3  1  1     2.5\n",
       "4  1  2     4.6"
      ]
     },
     "execution_count": 23,
     "metadata": {},
     "output_type": "execute_result"
    }
   ],
   "source": [
    "## create df_varB dataframe with only variable B & Relief\n",
    "df_varAB = df.drop(['Volunteer'],axis = 1)\n",
    "df_varAB.head()"
   ]
  },
  {
   "cell_type": "markdown",
   "metadata": {},
   "source": [
    "### (Without interaction)"
   ]
  },
  {
   "cell_type": "code",
   "execution_count": 24,
   "metadata": {},
   "outputs": [
    {
     "name": "stdout",
     "output_type": "stream",
     "text": [
      "            df  sum_sq     mean_sq           F        PR(>F)\n",
      "C(A)       2.0  220.02  110.010000  109.832850  8.514029e-15\n",
      "C(B)       2.0  123.66   61.830000   61.730435  1.546749e-11\n",
      "Residual  31.0   31.05    1.001613         NaN           NaN\n"
     ]
    }
   ],
   "source": [
    "formula = 'Relief ~ C(A) + C(B)'\n",
    "model = ols(formula, df_varAB).fit()\n",
    "aov_table = anova_lm(model)\n",
    "print(aov_table)"
   ]
  },
  {
   "cell_type": "markdown",
   "metadata": {},
   "source": [
    "__Conclusion:__ For both ingredient A & ingredient B, P value is __less than 0.05.__ hence, ingredient A & B has the __significant effect on relief time.__"
   ]
  },
  {
   "cell_type": "markdown",
   "metadata": {},
   "source": [
    "### (With interaction)"
   ]
  },
  {
   "cell_type": "code",
   "execution_count": 25,
   "metadata": {},
   "outputs": [
    {
     "name": "stdout",
     "output_type": "stream",
     "text": [
      "             df   sum_sq     mean_sq            F        PR(>F)\n",
      "C(A)        2.0  220.020  110.010000  1827.858462  1.514043e-29\n",
      "C(B)        2.0  123.660   61.830000  1027.329231  3.348751e-26\n",
      "C(A):C(B)   4.0   29.425    7.356250   122.226923  6.972083e-17\n",
      "Residual   27.0    1.625    0.060185          NaN           NaN\n"
     ]
    }
   ],
   "source": [
    "formula = 'Relief ~ C(A) + C(B) + C(A):C(B)' \n",
    "model = ols(formula, df_varAB).fit()\n",
    "aov_table = anova_lm(model)\n",
    "print(aov_table)"
   ]
  },
  {
   "cell_type": "markdown",
   "metadata": {},
   "source": [
    "__Conclusion:__ For both ingredient A & ingredient B, P value is __less than 0.05.__ hence, ingredient A & B has the __significant effect on relief time.__ Further, P value of interaction effect between A & B is also less than 0.05. __it means it has significant interaction effect.__"
   ]
  },
  {
   "cell_type": "markdown",
   "metadata": {},
   "source": [
    "__Final Summary:__ \n",
    "\n",
    "\n",
    "We __Reject the null hypothesis (H0).__ Hence, we conclude that _“both factors (ingredient A & ingredient B) have a statistically significant effect on relief time. Further, there is a significant interaction effect between ingredient A and ingredient B”._ "
   ]
  },
  {
   "cell_type": "markdown",
   "metadata": {},
   "source": [
    "#### ---------------------------------------------------------------  END 1.5  -----------------------------------------------------------------------------------------------"
   ]
  },
  {
   "cell_type": "markdown",
   "metadata": {},
   "source": [
    "## 1.6) Mention the business implications of performing ANOVA for this particular case study."
   ]
  },
  {
   "cell_type": "markdown",
   "metadata": {},
   "source": [
    "__ANOVA In the Business Context:__\n",
    "\n",
    "ANOVA is widely used across businesses and industries for a variety of purposes and is a technique that enables _companies to identify problems, trends, risks and opportunities that impact both short and long-term viability._ \n",
    "\n",
    "Below are some few considerations within given case study:\n",
    "\n",
    "•\tQuality and cost comparison\n",
    "\n",
    "•\tProduct safety tests\n",
    "\n",
    "•\tOptimize production\n"
   ]
  },
  {
   "cell_type": "markdown",
   "metadata": {},
   "source": [
    "__Benefits of ANOVA:__\n",
    "\n",
    "ANOVA has many benefits in both statistical and business contexts. It’s often used when measuring financial data or indifferent management scenarios. Companies can create new opportunities, spot potential issues, and learn to understand what is driving behavior.\n",
    "\n",
    "•\t__Hypothesis Testing:__ Enables the comparison of independent and dependent variables.\n",
    "\n",
    "•\t__Understanding Data Sets:__ An analyst or statistician can best determine inconsistencies in data sets.\n",
    "\n",
    "•\t__Group Comparisons:__ Allows multiple groups to be compared at the same time to uncover relationships between data.\n",
    "\n",
    "•\t__Sales and Marketing Improvement:__ Businesses can answer customer and product research questions to improve advertising and marketing for better sales.\n",
    "\n",
    "•\t__Project Management:__ Leadership, such as project management, can better align their goals and strategies with business and departmental cost objectives.\n",
    "\n",
    "•\t__Industry-Wide Approach:__ ANOVA is effective for a wide variety of uses across different industries, including financial services, eCommerce, industrial, R&D, and more.\n",
    "\n",
    "•\t__Product Development:__ Organizations can better pinpoint and understand what product features to improve or adapt for the best results.\n"
   ]
  },
  {
   "cell_type": "markdown",
   "metadata": {},
   "source": [
    "__Business Implications:__\n",
    "\n",
    "The purpose of this case study (a two-way ANOVA) is to determine how two factors (here ingredient “A” and “B”) impact a response variable (here “Relief”), and to determine whether or not there is an interaction between the two factors on the response variable. \n",
    "\n",
    "Descriptive statistics allowed to determining the mean of the independent variable A and B, and the dependent variable, relief time. Using the mean of the independent variables as reference, and computed a two-way ANOVA to analyze the data. \n"
   ]
  },
  {
   "cell_type": "markdown",
   "metadata": {},
   "source": [
    "The ANOVA was __significant, the effect size was strong, allowing to rejecting the null hypothesis, and indicating that there is a statistically significant relationship with strong effect size between ingredient A and ingredient B and relief time.__"
   ]
  },
  {
   "cell_type": "markdown",
   "metadata": {},
   "source": [
    "#### For Ingredient A:"
   ]
  },
  {
   "cell_type": "code",
   "execution_count": 33,
   "metadata": {},
   "outputs": [
    {
     "data": {
      "image/png": "[encoded data removed]",
      "text/plain": [
       "<Figure size 720x432 with 1 Axes>"
      ]
     },
     "metadata": {},
     "output_type": "display_data"
    }
   ],
   "source": [
    "plt.figure(figsize=(10,6))\n",
    "plt.hist(df_varA[df_varA['A'] == 1]['Relief'],  \n",
    "        alpha=0.5,  \n",
    "         label='ingredient A1', \n",
    "        color='red')\n",
    "plt.hist(df_varA[df_varA['A'] == 2]['Relief'],  \n",
    "         alpha=0.5,  \n",
    "         label='ingredient A2', \n",
    "         color='green')\n",
    "plt.hist(df_varA[df_varA['A'] == 3]['Relief'],  \n",
    "         alpha=0.5,  \n",
    "         label='ingredient A3', \n",
    "         color='purple')\n",
    "\n",
    "plt.legend(loc='upper right') \n",
    "plt.show()"
   ]
  },
  {
   "cell_type": "markdown",
   "metadata": {},
   "source": [
    "__Conclusion:__ Distribution plot of ingredient A with 3 variants says that, they are quite different then each other. There is only small overlay happening  at point 6 otherwise they are quite different. Therefore, we can conclude that the ingredient A with all 3 variants have different treatment."
   ]
  },
  {
   "cell_type": "markdown",
   "metadata": {},
   "source": [
    "#### For Ingredient B:"
   ]
  },
  {
   "cell_type": "code",
   "execution_count": 34,
   "metadata": {},
   "outputs": [
    {
     "data": {
      "image/png": "[encoded data removed]",
      "text/plain": [
       "<Figure size 720x432 with 1 Axes>"
      ]
     },
     "metadata": {},
     "output_type": "display_data"
    }
   ],
   "source": [
    "plt.figure(figsize=(10,6))\n",
    "plt.hist(df_varB[df_varB['B'] == 1]['Relief'],  \n",
    "        alpha=0.5,  \n",
    "         label='ingredient B1', \n",
    "        color='yellow')\n",
    "plt.hist(df_varB[df_varB['B'] == 2]['Relief'],  \n",
    "         alpha=0.5,  \n",
    "         label='ingredient B2', \n",
    "         color='blue')\n",
    "plt.hist(df_varB[df_varB['B'] == 3]['Relief'],  \n",
    "         alpha=0.5,  \n",
    "         label='ingredient B3', \n",
    "         color='black')\n",
    "\n",
    "plt.legend(loc='upper left') \n",
    "plt.show()"
   ]
  },
  {
   "cell_type": "markdown",
   "metadata": {},
   "source": [
    "__Conclusion:__ Distribution plot of ingredient B with 3 variants says that: For variants B2(blue) and B3(black), have somewhat overlay between them. For, the third one B1 (yellow) the distribution seems quite different then the other two.  Therefore, we can conclude that the ingredient B with all 3 variants have different treatment."
   ]
  },
  {
   "cell_type": "markdown",
   "metadata": {},
   "source": [
    "__Final Summary:__\n",
    "    \n",
    "    \n",
    "    As these treatments are quite different from each other, look for more samples or other variants which increases product quality and reduces time effort and increases relief time."
   ]
  },
  {
   "cell_type": "markdown",
   "metadata": {},
   "source": [
    "#### ---------------------------------------------------------------  END 1.6  -----------------------------------------------------------------------------------------------"
   ]
  }
 ],
 "metadata": {
  "kernelspec": {
   "display_name": "Python 3",
   "language": "python",
   "name": "python3"
  },
  "language_info": {
   "codemirror_mode": {
    "name": "ipython",
    "version": 3
   },
   "file_extension": ".py",
   "mimetype": "text/x-python",
   "name": "python",
   "nbconvert_exporter": "python",
   "pygments_lexer": "ipython3",
   "version": "3.7.4"
  }
 },
 "nbformat": 4,
 "nbformat_minor": 2
}
